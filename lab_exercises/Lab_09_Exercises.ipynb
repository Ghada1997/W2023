{
 "cells": [
  {
   "cell_type": "markdown",
   "metadata": {},
   "source": [
    "# Lab 9 - Association Rule Mining"
   ]
  },
  {
   "cell_type": "markdown",
   "metadata": {},
   "source": [
    "The following exercise follows the CRISP-DM data science methodology.\n",
    "\n",
    "---\n",
    "\n",
    "## Business Scenario\n",
    "\n",
    "Roger is a city manager for a medium-sized, but steadily growing, city. \n",
    "He needs to get a number of groups to work together to meet some of the needs in the community, knowing that the citizens in the community are fairly active in various community organizations such as churches, social clubs, hobby enthusiasts and other types of groups in the community. \n",
    "What he doesn't know is if there are connections between the groups that might enable natural collaborations between two or more groups that could work together on projects around town. \n",
    "He decides that before he can begin asking community organizations to begin working together and to accept responsibility for projects, he needs to find out if there are any existing associations between the different types of groups in the area. \n",
    "\n",
    "## Business Understanding\n",
    "\n",
    "**Business Goal**: Roger's goal is to identify and then try to take advantage of existing connections/associations in his local community to get some work done that will benefit the entire community.\n",
    "\n",
    "**Data Mining Goal**: identifying strong and frequent associations between the groups using association rule mining.\n",
    "\n",
    "## Data Understanding\n",
    "\n",
    "```raw\n",
    "Elapsed_Time: the amount of time each respondent spent completing our survey. It is expressed in decimal minutes.\n",
    "\n",
    "Time_in_Community: This question on the survey asked the person if they have lived in the area for 0-2 years, 3-9 years, or 10+ years; and is recorded in the data set as Short, Medium, or Long respectively.\n",
    "\n",
    "Gender: The survey respondent's gender.\n",
    "\n",
    "Working: A yes/no column indicating whether or not the respondent currently has a paid job\n",
    "\n",
    "Age: The survey respondent's age in years.\n",
    "\n",
    "Family: A yes/no column indicating whether or not the respondent is currently a member of a family-oriented community organization, such as Big Brothers/Big Sisters, etc. \n",
    "\n",
    "Hobbies: A yes/no column indicating whether or not the respondent is currently a member of a hobby-oriented community organization, such as amateur radio, etc. \n",
    "\n",
    "Social_Club: A yes/no column indicating whether or not the respondent is currently a member of a community social organization, such as Rotary International, Lion's Club, etc. \n",
    "\n",
    "Political: A yes/no column indicating whether or not the respondent is currently a member of a political organization, such as a political party, etc.\n",
    "\n",
    "Professional: A yes/no column indicating whether or not the respondent is currently a member of a professional organization such as a chapter of a law or medical society, etc.\n",
    "\n",
    "Religious: A yes/no column indicating whether or not the respondent is currently a member of a church in the community.\n",
    "\n",
    "Support_Group: A yes/no column indicating whether or not the respondent is currently a member of a support-oriented community organization, such as Alcoholics Anonymous, etc. \n",
    "```"
   ]
  },
  {
   "cell_type": "markdown",
   "metadata": {},
   "source": [
    "## Data Preparation\n",
    "\n",
    "The data URL is `https://raw.githubusercontent.com/GUC-DM/W2023/main/data/groups_survey.csv`"
   ]
  },
  {
   "cell_type": "code",
   "execution_count": null,
   "metadata": {},
   "outputs": [],
   "source": [
    "# uncomment this cell if running locally or on Colab\n",
    "# to install the mlxtend package for assoc. rule mining\n",
    "\n",
    "# !pip install mlxtend --upgrade"
   ]
  },
  {
   "cell_type": "code",
   "execution_count": null,
   "metadata": {},
   "outputs": [],
   "source": []
  },
  {
   "cell_type": "markdown",
   "metadata": {},
   "source": [
    "## Modelling"
   ]
  },
  {
   "cell_type": "markdown",
   "metadata": {},
   "source": [
    "**Use `%timeit` to get the execution time for the Apriori Algorithm**"
   ]
  },
  {
   "cell_type": "code",
   "execution_count": null,
   "metadata": {},
   "outputs": [],
   "source": []
  },
  {
   "cell_type": "markdown",
   "metadata": {},
   "source": [
    "## Conclusions\n",
    "\n",
    "`Write your conclusions in this cell`"
   ]
  },
  {
   "cell_type": "markdown",
   "metadata": {},
   "source": [
    "## Extra Challenge"
   ]
  },
  {
   "cell_type": "markdown",
   "metadata": {},
   "source": [
    "#### Use FP Growth Algorithm instead of Apriori and compare the results (use `#timeit` to compare the execution time of both of them )"
   ]
  }
 ],
 "metadata": {
  "kernelspec": {
   "display_name": "Python 3.9.13 ('base')",
   "language": "python",
   "name": "python3"
  },
  "language_info": {
   "codemirror_mode": {
    "name": "ipython",
    "version": 3
   },
   "file_extension": ".py",
   "mimetype": "text/x-python",
   "name": "python",
   "nbconvert_exporter": "python",
   "pygments_lexer": "ipython3",
   "version": "3.9.13"
  },
  "vscode": {
   "interpreter": {
    "hash": "806d670c7bb2cbe074590fc196bfaf591c17bcc1c3e5afa2a6f71dcbde559284"
   }
  }
 },
 "nbformat": 4,
 "nbformat_minor": 4
}
