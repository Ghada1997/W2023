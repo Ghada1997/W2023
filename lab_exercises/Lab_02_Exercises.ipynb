{
 "cells": [
  {
   "cell_type": "markdown",
   "metadata": {},
   "source": [
    "# Lab 2 Exercises"
   ]
  },
  {
   "cell_type": "markdown",
   "metadata": {},
   "source": [
    "## Exercise 1 - List Comprehension\n",
    "\n",
    "Re-implement exercise 9 from Lab 1 using list comprehension. Given a list containing product prices and the value-added tax (VAT), create a list containing the prices after tax."
   ]
  },
  {
   "cell_type": "code",
   "execution_count": null,
   "metadata": {},
   "outputs": [],
   "source": [
    "prices = [10.0, 23.0, 95.0, 40.0, 65.0]\n",
    "vat = 0.14\n",
    "\n",
    "# your code below\n"
   ]
  },
  {
   "cell_type": "markdown",
   "metadata": {},
   "source": [
    "Re-implement the list comprehension with the following new information: products/services sold under 50 units of currency are exempt from tax \n",
    "\n",
    "_Hint: inline if expression_"
   ]
  },
  {
   "cell_type": "code",
   "execution_count": null,
   "metadata": {},
   "outputs": [],
   "source": []
  },
  {
   "cell_type": "markdown",
   "metadata": {},
   "source": [
    "## Exercise 2 - Looping, Conditionals and Function Calling\n",
    "\n",
    "Complete the following function named `decode` that takes in a string, and returns its hidden message (encoded using upper case letters).\n",
    "\n",
    "Useful reference: [python's documentation on string methods](https://docs.python.org/3/library/stdtypes.html#string-methods)"
   ]
  },
  {
   "cell_type": "code",
   "execution_count": null,
   "metadata": {},
   "outputs": [],
   "source": [
    "# function definition\n",
    "def decode(message):\n",
    "    decoded_message = ''\n",
    "    \n",
    "    # your code here\n",
    "    \n",
    "    return decoded_message\n",
    "\n",
    "\n",
    "msg = 'steganograpHy is the practicE of conceaLing a fiLe, message, image, Or video Within anOtheR fiLe, message, image, or viDeo.'\n",
    "\n",
    "decode(msg)"
   ]
  },
  {
   "cell_type": "markdown",
   "metadata": {},
   "source": [
    "## Exercise 3 - Preprocessing w/ List Comprehension\n",
    "\n",
    "Use the string instance functions `lower()`, `strip()`, `replace(' ', '_')` (to replace spaces with underscores) using list comprehension to normalize the following list of column names.\n",
    "\n",
    "Useful reference: [python's documentation on string methods](https://docs.python.org/3/library/stdtypes.html#string-methods)"
   ]
  },
  {
   "cell_type": "code",
   "execution_count": null,
   "metadata": {},
   "outputs": [],
   "source": [
    "column_names = [\"Id\", \"FIRST NAME\", \"Last name\", \"gender\", \"contact Number\", \" SSN\", \"TYPE  \", \"  PO Box  \"]\n",
    "\n",
    "# your code here\n"
   ]
  },
  {
   "cell_type": "markdown",
   "metadata": {},
   "source": [
    "Re-implement your solution using `lambda` and `map`"
   ]
  },
  {
   "cell_type": "code",
   "execution_count": null,
   "metadata": {},
   "outputs": [],
   "source": []
  },
  {
   "cell_type": "markdown",
   "metadata": {},
   "source": [
    "## Exercise 4 - Functions and List Comprehension / Mapping\n",
    "\n",
    "Mini-scenario: As part of an analysis on automotive sales, you'd like to find out the most popular paint color group.\n",
    "\n",
    "Create a function that takes a paint color and returns its general color classification. For simplicity, assume that all the car paint colors are written in English, and follow the pattern `'{Adjective|Noun} {Color}'`.\n",
    "\n",
    "Example Input: `'Metallic Blue'`\n",
    "\n",
    "Example Output: `'Blue'`\n",
    "\n",
    "_Hint: consider using `split` [(python documentation page)](https://docs.python.org/3/library/stdtypes.html#str.split)_"
   ]
  },
  {
   "cell_type": "code",
   "execution_count": null,
   "metadata": {},
   "outputs": [],
   "source": [
    "# function definition\n"
   ]
  },
  {
   "cell_type": "markdown",
   "metadata": {},
   "source": [
    "Apply the function over the following column of data and create a new list containing the generalized color of each car paint in `car_paint_column`"
   ]
  },
  {
   "cell_type": "code",
   "execution_count": null,
   "metadata": {},
   "outputs": [],
   "source": [
    "car_paint_column = ['Pearl White', 'British Racing Green', 'Burgundy Red', 'Electric Blue', 'Titanium Grey', 'Lime Green', 'Midnight Black', 'Ivory White', 'Pearl Black', 'Pearl Green', 'Midnight Blue', 'Jet Black']\n",
    "\n",
    "# applying the function\n"
   ]
  },
  {
   "cell_type": "markdown",
   "metadata": {},
   "source": [
    "## Exercise 5 - Extracting Information from Text (🌶️)"
   ]
  },
  {
   "cell_type": "markdown",
   "metadata": {},
   "source": [
    "*Note: 🌶️ signifies optional challenging exercises*\n",
    "\n",
    "Mini-scenario: you've chosen to scrape Wikipedia articles to construct a large dataset of wildlife and fauna found in Egypt as part of a wildlife research project, which you'll use as a basis for further modification.\n",
    "\n",
    "Given the below excerpt from the Wikipedia article on birds in Egypt, extract the common name and the scientific name of each bird, save them in a dictionary with the keys `common_name`, `scientific_name` and append them to a list called `bird_dataset`.\n",
    "\n",
    "Example Output:\n",
    "```python\n",
    "[{'common_name': 'Common ostrich',\n",
    "  'scientific_name': ' Struthio camelus'},\n",
    " {'common_name': 'North African ostrich',\n",
    "  'scientific_name': ' Struthio camelus camelus'},\n",
    " {'common_name': 'Arabian ostrich',\n",
    "  'scientific_name': ' Struthio camelus syriacus (X)'},\n",
    " ...\n",
    "]\n",
    "```\n",
    "\n",
    "**Bonus challenge:** for each bird, extract the bird's category, order and family as well and add them with the keys `category`, `order` and `family`\n",
    "\n",
    "Data source: [\"Wikipedia: List of birds in Egypt.\"](https://en.wikipedia.org/wiki/List_of_birds_of_Egypt)"
   ]
  },
  {
   "cell_type": "code",
   "execution_count": null,
   "metadata": {},
   "outputs": [],
   "source": [
    "scraped_text =\"\"\"\\\n",
    "Ostriches[edit]\n",
    "\n",
    "Order: Struthioniformes   Family: Struthionidae\n",
    "\n",
    "The ostrich is a flightless bird native to Africa. It is the largest living species of bird. It is distinctive in its appearance, with a long neck and legs and the ability to run at high speeds.\n",
    "\n",
    "    Common ostrich, Struthio camelus\n",
    "        North African ostrich, Struthio camelus camelus\n",
    "        Arabian ostrich, Struthio camelus syriacus (X)\n",
    "      \n",
    "Cranes[edit]\n",
    "\n",
    "Order: Gruiformes   Family: Gruidae\n",
    "\n",
    "Cranes are large, long-legged and long-necked birds. Unlike the similar-looking but unrelated herons, cranes fly with necks outstretched, not pulled back. Most have elaborate and noisy courting displays or \"dances\".\n",
    "\n",
    "    Demoiselle crane, Anthropoides virgo; Ancient Egyptian wDc 'splitter' (??)\n",
    "    Common crane, Grus grus; Ancient Egyptian: D3.t 'the one stretching/reaching' or 'borer'\n",
    "\n",
    "Hawks, eagles, and kites[edit]\n",
    "\n",
    "Order: Accipitriformes   Family: Accipitridae\n",
    "\n",
    "Accipitridae is a family of birds of prey, which includes hawks, eagles, kites, harriers and Old World vultures. These birds have powerful hooked beaks for tearing flesh from their prey, strong legs, powerful talons and keen eyesight.\n",
    "\n",
    "    Black-winged kite, Elanus caeruleus\n",
    "    Bearded vulture, Gypaetus barbatus\n",
    "    Egyptian vulture, Neophron percnopterus; Ancient Egyptian: 3 (the hieroglyph) 'one who treads ?\n",
    "    European honey-buzzard, Pernis apivorus\n",
    "    Oriental honey-buzzard, Pernis ptilorhynchus (A)\n",
    "    Cinereous vulture, Aegypius monachus\n",
    "    Lappet-faced vulture, Torgos tracheliotos\n",
    "    White-backed vulture, Gyps africanus (A)\n",
    "    Rüppell's vulture, Gyps rueppelli\n",
    "    Eurasian griffon, Gyps fulvus; Ancient Egyptian: nr(w) 'terrifying one'\n",
    "    Bateleur, Terathopius ecaudatus\n",
    "    Short-toed snake-eagle, Circaetus gallicus\n",
    "    Lesser spotted eagle, Clanga pomarina\n",
    "    Greater spotted eagle, Clanga clanga\n",
    "    Wahlberg's eagle, Hieraaetus wahlbergi (A)\n",
    "    Booted eagle, Hieraaetus pennatus\n",
    "    Tawny eagle, Aquila rapax (A)\n",
    "    Steppe eagle, Aquila nipalensis\n",
    "    Imperial eagle, Aquila heliaca\n",
    "    Golden eagle, Aquila chrysaetos\n",
    "    Verreaux's eagle, Aquila verreauxii\n",
    "    Bonelli's eagle, Aquila fasciata\n",
    "    Gabar goshawk, Micronisus gabar (A)\n",
    "    Eurasian marsh-harrier, Circus aeruginosus\n",
    "    Hen harrier, Circus cyaneus\n",
    "    Pallid harrier, Circus macrourus\n",
    "    Montagu's harrier, Circus pygargus\n",
    "    Levant sparrowhawk, Accipiter brevipes\n",
    "    Eurasian sparrowhawk, Accipiter nisus\n",
    "    Northern goshawk, Accipiter gentilis\n",
    "    Red kite, Milvus milvus\n",
    "    Black kite, Milvus migrans; Ancient Egyptian: Dr/Dr.t (possibly) 'one who grasps/holds'\n",
    "    White-tailed eagle, Haliaeetus albicilla\n",
    "    African fish-eagle, Haliaeetus vocifer (A)\n",
    "    Yellow-billed kite, Milvus aegyptius\n",
    "    Common buzzard, Buteo buteo; Ancient Egyptian: tyw 'shrieker' (like ti3w) or 'treader' (like tiw(?)\n",
    "    Long-legged buzzard, Buteo rufinus\n",
    "\n",
    "Storks[edit]\n",
    "\n",
    "Order: Ciconiiformes   Family: Ciconiidae\n",
    "\n",
    "Storks are large, long-legged, long-necked, wading birds with long, stout bills. Storks are mute, but bill-clattering is an important mode of communication at the nest. Their nests can be large and may be reused for many years. Many species are migratory.\n",
    "\n",
    "    African openbill, Anastomus lamelligerus (A)\n",
    "    Black stork, Ciconia nigra\n",
    "    White stork, Ciconia ciconia\n",
    "    Marabou stork, Leptoptilos crumenifer (A)\n",
    "    Yellow-billed stork, Mycteria ibis\n",
    "\n",
    "Bulbuls[edit]\n",
    "\n",
    "Order: Passeriformes   Family: Pycnonotidae\n",
    "\n",
    "Bulbuls are medium-sized songbirds. Some are colourful with yellow, red or orange vents, cheeks, throats or supercilia, but most are drab, with uniform olive-brown to black plumage. Some species have distinct crests.\n",
    "\n",
    "    Common bulbul, Pycnonotus barbatus\n",
    "    White-spectacled bulbul, Pycnonotus xanthopygos\n",
    "\"\"\"\n",
    "\n",
    "# your code below\n",
    "\n"
   ]
  },
  {
   "cell_type": "markdown",
   "metadata": {},
   "source": [
    "## DataFrames"
   ]
  },
  {
   "cell_type": "markdown",
   "metadata": {},
   "source": [
    "The exercises below will be using the `world_factbook.csv` dataset used in the lab notebook."
   ]
  },
  {
   "cell_type": "code",
   "execution_count": null,
   "metadata": {},
   "outputs": [],
   "source": [
    "import numpy as np\n",
    "import pandas as pd\n",
    "\n",
    "# Try/Except block to load the data remotely for Google Colab users\n",
    "try:\n",
    "    df = pd.read_csv('../data/world_factbook.csv')\n",
    "except FileNotFoundError:\n",
    "    data_url = 'https://raw.githubusercontent.com/GUC-DM/W2023/main/data/world_factbook.csv'\n",
    "    df = pd.read_csv(data_url)\n",
    "df.head()"
   ]
  },
  {
   "cell_type": "markdown",
   "metadata": {},
   "source": [
    "_Note: the column names have been simplified for ease of access. The original more descriptive column names are shown below._\n",
    "\n",
    "\\# | Column\n",
    "---|  ------\n",
    "0  | Country\n",
    "1  | Region\n",
    "2  | Population\n",
    "3  | Area (sq. mi.)\n",
    "4  | Pop. Density (per sq. mi.)\n",
    "5  | Coastline (coast/area ratio)\n",
    "6  | Net migration\n",
    "7  | Infant mortality (per 1000 births)\n",
    "8  | GDP (in \\$US)\n",
    "9  | Literacy (\\%)\n",
    "10 | Phones (per 1000)\n",
    "11 | Arable (\\%)\n",
    "12 | Crops (\\%)\n",
    "13 | Other (\\%)\n",
    "14 | Climate\n",
    "15 | Birthrate (per 1000)\n",
    "16 | Deathrate (per 1000)\n",
    "17 | Agriculture (\\%)\n",
    "18 | Industry (\\%)\n",
    "19 | Service (\\%)"
   ]
  },
  {
   "cell_type": "markdown",
   "metadata": {},
   "source": [
    "## Exercise 6\n",
    "\n",
    "Display the top 10 and bottom 10 countries according to their literacy rate "
   ]
  },
  {
   "cell_type": "code",
   "execution_count": null,
   "metadata": {},
   "outputs": [],
   "source": []
  },
  {
   "cell_type": "markdown",
   "metadata": {},
   "source": [
    "## Exercise 7"
   ]
  },
  {
   "cell_type": "markdown",
   "metadata": {},
   "source": [
    "Which country has more phones than citizens?"
   ]
  },
  {
   "cell_type": "code",
   "execution_count": null,
   "metadata": {},
   "outputs": [],
   "source": []
  },
  {
   "cell_type": "markdown",
   "metadata": {},
   "source": [
    "## Exercise 8\n"
   ]
  },
  {
   "cell_type": "markdown",
   "metadata": {},
   "source": [
    "Display the total world population and GDP by applying `sum()` on the population and GDP column"
   ]
  },
  {
   "cell_type": "code",
   "execution_count": null,
   "metadata": {},
   "outputs": [],
   "source": []
  },
  {
   "cell_type": "markdown",
   "metadata": {},
   "source": [
    "## Exercise 9\n"
   ]
  },
  {
   "cell_type": "markdown",
   "metadata": {},
   "source": [
    "Display the total area of each region. Which region occupies the most area?"
   ]
  },
  {
   "cell_type": "code",
   "execution_count": null,
   "metadata": {},
   "outputs": [],
   "source": []
  },
  {
   "cell_type": "markdown",
   "metadata": {},
   "source": [
    "## Exercise 10\n"
   ]
  },
  {
   "cell_type": "markdown",
   "metadata": {},
   "source": [
    "Create a new column called `net_pop_increase` based on `birthrate` - `deathrate`. Which countries had the largest increase? Which had the lowest increase?"
   ]
  },
  {
   "cell_type": "code",
   "execution_count": null,
   "metadata": {},
   "outputs": [],
   "source": []
  },
  {
   "cell_type": "markdown",
   "metadata": {},
   "source": [
    "## Exercise 11"
   ]
  },
  {
   "cell_type": "markdown",
   "metadata": {},
   "source": [
    "Aggregate the `net_pop_increase` column you calculated in exercise 5 per region. Which region had the largest total increase? Which region had the lowest total increase?"
   ]
  },
  {
   "cell_type": "code",
   "execution_count": null,
   "metadata": {},
   "outputs": [],
   "source": []
  }
 ],
 "metadata": {
  "kernelspec": {
   "display_name": "Python 3.9.13 ('base')",
   "language": "python",
   "name": "python3"
  },
  "language_info": {
   "codemirror_mode": {
    "name": "ipython",
    "version": 3
   },
   "file_extension": ".py",
   "mimetype": "text/x-python",
   "name": "python",
   "nbconvert_exporter": "python",
   "pygments_lexer": "ipython3",
   "version": "3.9.13"
  },
  "vscode": {
   "interpreter": {
    "hash": "806d670c7bb2cbe074590fc196bfaf591c17bcc1c3e5afa2a6f71dcbde559284"
   }
  }
 },
 "nbformat": 4,
 "nbformat_minor": 4
}
